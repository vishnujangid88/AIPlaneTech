{
 "cells": [
  {
   "cell_type": "markdown",
   "metadata": {},
   "source": [
    "## 1. Importing Required Libraries"
   ]
  },
  {
   "cell_type": "code",
   "execution_count": 1,
   "metadata": {},
   "outputs": [],
   "source": [
    "import nltk\n",
    "from nltk.stem import WordNetLemmatizer\n",
    "import pickle\n",
    "import numpy as np\n",
    "from keras.models import load_model\n",
    "import json\n",
    "import random\n",
    "import tkinter as tk\n",
    "from tkinter import Scrollbar, Text, Button, END"
   ]
  },
  {
   "cell_type": "markdown",
   "metadata": {},
   "source": [
    "-   `nltk`: Natural Language Toolkit (NLTK) for text processing.\n",
    "-   `WordNetLemmatizer`: Used to reduce words to their base form (e.g., \"running\" → \"run\").\n",
    "-   `pickle`: Used for loading preprocessed data (like words and classes).\n",
    "-   `numpy`: Provides numerical operations, particularly arrays.\n",
    "-   `load_model`: Loads the trained chatbot model from Keras.\n",
    "-   `json`: Reads intent data from a JSON file.\n",
    "-   `random`: Selects a random response for variability.\n",
    "-   `tkinter`: Used to create the chatbot's graphical user interface (GUI).\n",
    "---"
   ]
  },
  {
   "cell_type": "markdown",
   "metadata": {},
   "source": [
    "## 2. Ensuring Required NLTK Resources are Available"
   ]
  },
  {
   "cell_type": "code",
   "execution_count": 2,
   "metadata": {},
   "outputs": [
    {
     "name": "stderr",
     "output_type": "stream",
     "text": [
      "[nltk_data] Downloading package wordnet to\n",
      "[nltk_data]     C:\\Users\\Harsh\\AppData\\Roaming\\nltk_data...\n",
      "[nltk_data]   Package wordnet is already up-to-date!\n"
     ]
    }
   ],
   "source": [
    "def check_nltk_resources():\n",
    "    try:\n",
    "        nltk.data.find('tokenizers/punkt')\n",
    "    except LookupError:\n",
    "        nltk.download('punkt')\n",
    "    \n",
    "    try:\n",
    "        nltk.data.find('corpora/wordnet')\n",
    "    except LookupError:\n",
    "        nltk.download('wordnet')\n",
    "\n",
    "check_nltk_resources()"
   ]
  },
  {
   "cell_type": "markdown",
   "metadata": {},
   "source": [
    "-   This function ensures that the necessary NLTK resources (`punkt` for tokenization and `wordnet` for lemmatization) are available.\n",
    "-   If not found, it downloads them.\n",
    "---"
   ]
  },
  {
   "cell_type": "markdown",
   "metadata": {},
   "source": [
    "## 3. Loading Required Resources"
   ]
  },
  {
   "cell_type": "code",
   "execution_count": 3,
   "metadata": {},
   "outputs": [
    {
     "name": "stderr",
     "output_type": "stream",
     "text": [
      "WARNING:absl:Compiled the loaded model, but the compiled metrics have yet to be built. `model.compile_metrics` will be empty until you train or evaluate the model.\n"
     ]
    }
   ],
   "source": [
    "lemmatizer = WordNetLemmatizer()\n",
    "model = load_model('Model/chatbot_model.h5')\n",
    "intents = json.loads(open('Data/admission_data.json').read())\n",
    "words = pickle.load(open('Model/words.pkl', 'rb'))\n",
    "classes = pickle.load(open('Model/classes.pkl', 'rb'))"
   ]
  },
  {
   "cell_type": "markdown",
   "metadata": {},
   "source": [
    "-   `lemmatizer`: Initializes the lemmatizer to process user input.\n",
    "-   `model`: Loads the trained chatbot model (`chatbot_model.h5`).\n",
    "-   `intents`: Loads predefined intents (questions and responses) from `admission_data.json`.\n",
    "-   `words`: Loads the vocabulary used for training.\n",
    "-   `classes`: Loads the intent classes for classification.\n",
    "---"
   ]
  },
  {
   "cell_type": "markdown",
   "metadata": {},
   "source": [
    "## 4. Preprocessing User Input"
   ]
  },
  {
   "cell_type": "code",
   "execution_count": 4,
   "metadata": {},
   "outputs": [],
   "source": [
    "def clean_up_sentence(sentence):\n",
    "    sentence_words = nltk.word_tokenize(sentence)\n",
    "    sentence_words = [lemmatizer.lemmatize(word.lower()) for word in sentence_words]\n",
    "    return sentence_words"
   ]
  },
  {
   "cell_type": "markdown",
   "metadata": {},
   "source": [
    "-   Tokenizes the input sentence into words.\n",
    "-   Converts words to lowercase and applies lemmatization.\n",
    "-   Example:\n",
    "    -   **Input**: `\"I am applying for admission\"`\n",
    "    -   **Tokenized**: `['I', 'am', 'applying', 'for', 'admission']`\n",
    "    -   **Lemmatized**: `['i', 'am', 'apply', 'for', 'admission']`\n",
    "---"
   ]
  },
  {
   "cell_type": "markdown",
   "metadata": {},
   "source": [
    "## 5. Creating Bag of Words Representation"
   ]
  },
  {
   "cell_type": "code",
   "execution_count": 5,
   "metadata": {},
   "outputs": [],
   "source": [
    "def bow(sentence, words, show_details=True):\n",
    "    sentence_words = clean_up_sentence(sentence)\n",
    "    bag = [0] * len(words)\n",
    "    for s in sentence_words:\n",
    "        for i, w in enumerate(words):\n",
    "            if w == s:\n",
    "                bag[i] = 1\n",
    "                if show_details:\n",
    "                    print(f\"Found in bag: {w}\")\n",
    "    return np.array(bag)"
   ]
  },
  {
   "cell_type": "markdown",
   "metadata": {},
   "source": [
    "-   Converts the processed sentence into a **Bag of Words (BoW)** representation.\n",
    "-   Each word in the predefined `words` list is represented as `1` if it appears in the user input, otherwise `0`.\n",
    "-   Example:\n",
    "    -   Words list: `['apply', 'admission', 'scholarship', 'course']`\n",
    "    -   Input: `\"I want to apply for admission\"`\n",
    "    -   BoW: `[1, 1, 0, 0]`\n",
    "---"
   ]
  },
  {
   "cell_type": "markdown",
   "metadata": {},
   "source": [
    "## 6. Predicting Intent Class"
   ]
  },
  {
   "cell_type": "code",
   "execution_count": 6,
   "metadata": {},
   "outputs": [],
   "source": [
    "def predict_class(sentence, model):\n",
    "    p = bow(sentence, words, show_details=False)\n",
    "    res = model.predict(np.array([p]))[0]\n",
    "    ERROR_THRESHOLD = 0.25\n",
    "    results = [[i, r] for i, r in enumerate(res) if r > ERROR_THRESHOLD]\n",
    "    results.sort(key=lambda x: x[1], reverse=True)\n",
    "    return_list = []\n",
    "    for r in results:\n",
    "        return_list.append({\"intent\": classes[r[0]], \"probability\": str(r[1])})\n",
    "    return return_list"
   ]
  },
  {
   "cell_type": "markdown",
   "metadata": {},
   "source": [
    "-   Uses the trained model to predict the intent based on the BoW representation.\n",
    "-   Filters predictions with a confidence above `0.25`.\n",
    "-   Returns a sorted list of intents with their probabilities.\n",
    "-   Example:\n",
    "    -   **Predicted Output**:\n",
    "        ```python\n",
    "        [{\"intent\": \"admission_process\", \"probability\": \"0.89\"}]\n",
    "        ```\n",
    "---"
   ]
  },
  {
   "cell_type": "markdown",
   "metadata": {},
   "source": [
    "## 7. Fetching a Response"
   ]
  },
  {
   "cell_type": "code",
   "execution_count": 7,
   "metadata": {},
   "outputs": [],
   "source": [
    "def get_response(ints, intents_json):\n",
    "    tag = ints[0]['intent']\n",
    "    list_of_intents = intents_json['intents']\n",
    "    for i in list_of_intents:\n",
    "        if i['tag'] == tag:\n",
    "            return random.choice(i['responses'])"
   ]
  },
  {
   "cell_type": "markdown",
   "metadata": {},
   "source": [
    "-   Matches the predicted intent with the predefined responses in `admission_data.json`.\n",
    "-   Randomly selects one of the available responses.\n",
    "-   Example:\n",
    "    -   If `\"admission_process\"` is the predicted intent, the bot might respond with:\n",
    "        -   `\"You can apply online on our website.\"`\n",
    "---"
   ]
  },
  {
   "cell_type": "markdown",
   "metadata": {},
   "source": [
    "## 8. Processing User Input and Generating a Response"
   ]
  },
  {
   "cell_type": "code",
   "execution_count": 8,
   "metadata": {},
   "outputs": [],
   "source": [
    "def chatbot_response(msg):\n",
    "    ints = predict_class(msg, model)\n",
    "    return get_response(ints, intents)"
   ]
  },
  {
   "cell_type": "markdown",
   "metadata": {},
   "source": [
    "-   Calls `predict_class()` to determine the intent.\n",
    "-   Calls `get_response()` to return a relevant response.\n",
    "---"
   ]
  },
  {
   "cell_type": "markdown",
   "metadata": {},
   "source": [
    "## 9. Creating the Chatbot GUI"
   ]
  },
  {
   "cell_type": "code",
   "execution_count": 9,
   "metadata": {},
   "outputs": [],
   "source": [
    "class ChatBotGUI:\n",
    "    def __init__(self, root):\n",
    "        self.root = root\n",
    "        self.root.title(\"College Admission Chatbot\")\n",
    "        self.root.geometry(\"500x600\")\n",
    "        self.root.resizable(width=False, height=False)\n",
    "        self.create_widgets()\n",
    "        # -   Creates a chatbot UI using **Tkinter**.\n",
    "        # -   Window title: `\"College Admission Chatbot\"`.\n",
    "        # -   Fixed size (`500x600` pixels).\n",
    "\n",
    "    def create_widgets(self):\n",
    "        # Create Chat window\n",
    "        self.chat_log = Text(self.root, bd=1, bg=\"white\", height=\"8\", width=\"50\", font=\"Arial\", wrap='word')\n",
    "        self.chat_log.config(state='disabled')\n",
    "\n",
    "        # Bind scrollbar to Chat window\n",
    "        self.scrollbar = Scrollbar(self.root, command=self.chat_log.yview, cursor=\"heart\")\n",
    "        self.chat_log['yscrollcommand'] = self.scrollbar.set\n",
    "\n",
    "        # Create the box to enter message\n",
    "        self.entry_box = Text(self.root, bd=0, bg=\"white\", width=\"29\", height=\"5\", font=\"Arial\", wrap='word')\n",
    "        self.entry_box.bind(\"<Return>\", self.send)\n",
    "\n",
    "        # Create Button to send message\n",
    "        self.send_button = Button(self.root, font=(\"Verdana\", 12, 'bold'), text=\"Send\", width=\"12\", height=5,\n",
    "                                  bd=0, bg=\"#32de97\", activebackground=\"#3c9d9b\", fg='#ffffff', command=self.send)\n",
    "\n",
    "        # Place all components on the screen\n",
    "        self.scrollbar.place(x=476, y=6, height=486)\n",
    "        self.chat_log.place(x=6, y=6, height=486, width=470)\n",
    "        self.entry_box.place(x=6, y=501, height=90, width=360)\n",
    "        self.send_button.place(x=370, y=501, height=90)\n",
    "        # -   **Chat log (`Text`)**: Displays conversation history.\n",
    "        # -   **Scrollbar (`Scrollbar`)**: Allows scrolling in the chat window.\n",
    "        # -   **Entry box (`Text`)**: Where users type their messages.\n",
    "        # -   **Send button (`Button`)**: Sends messages when clicked.\n",
    "\n",
    "    def send(self, event=None):\n",
    "        msg = self.entry_box.get(\"1.0\", 'end-1c').strip()\n",
    "        self.entry_box.delete(\"0.0\", END)\n",
    "\n",
    "        if msg:\n",
    "            self.chat_log.config(state='normal')\n",
    "            self.chat_log.insert(END, \"You: \" + msg + '\\n\\n')\n",
    "            self.chat_log.config(foreground=\"#442265\", font=(\"Verdana\", 12))\n",
    "\n",
    "            res = chatbot_response(msg)\n",
    "            self.chat_log.insert(END, \"Bot: \" + res + '\\n\\n')\n",
    "\n",
    "            self.chat_log.config(state='disabled')\n",
    "            self.chat_log.yview(END)\n",
    "        # -   Retrieves user input.\n",
    "        # -   Displays the user's message in the chat log.\n",
    "        # -   Calls `chatbot_response()` to generate a response.\n",
    "        # -   Displays the bot’s reply."
   ]
  },
  {
   "cell_type": "markdown",
   "metadata": {},
   "source": [
    "-   Creates a chatbot UI using **Tkinter**.\n",
    "-   Window title: `\"College Admission Chatbot\"`.\n",
    "-   Fixed size (`500x600` pixels).\n",
    "-   **Chat log (`Text`)**: Displays conversation history.\n",
    "-   **Scrollbar (`Scrollbar`)**: Allows scrolling in the chat window.\n",
    "-   **Entry box (`Text`)**: Where users type their messages.\n",
    "-   **Send button (`Button`)**: Sends messages when clicked.\n",
    "-   Retrieves user input.\n",
    "-   Displays the user's message in the chat log.\n",
    "-   Calls `chatbot_response()` to generate a response.\n",
    "-   Displays the bot’s reply.\n",
    "---"
   ]
  },
  {
   "cell_type": "markdown",
   "metadata": {},
   "source": [
    "## Running the Application"
   ]
  },
  {
   "cell_type": "code",
   "execution_count": 11,
   "metadata": {},
   "outputs": [
    {
     "name": "stdout",
     "output_type": "stream",
     "text": [
      "\u001b[1m1/1\u001b[0m \u001b[32m━━━━━━━━━━━━━━━━━━━━\u001b[0m\u001b[37m\u001b[0m \u001b[1m0s\u001b[0m 31ms/step\n",
      "\u001b[1m1/1\u001b[0m \u001b[32m━━━━━━━━━━━━━━━━━━━━\u001b[0m\u001b[37m\u001b[0m \u001b[1m0s\u001b[0m 38ms/step\n",
      "\u001b[1m1/1\u001b[0m \u001b[32m━━━━━━━━━━━━━━━━━━━━\u001b[0m\u001b[37m\u001b[0m \u001b[1m0s\u001b[0m 22ms/step\n"
     ]
    }
   ],
   "source": [
    "if __name__ == \"__main__\":\n",
    "    root = tk.Tk()\n",
    "    gui = ChatBotGUI(root)\n",
    "    root.mainloop()"
   ]
  },
  {
   "cell_type": "markdown",
   "metadata": {},
   "source": [
    "- Initializes and runs the Tkinter GUI."
   ]
  },
  {
   "cell_type": "markdown",
   "metadata": {},
   "source": [
    "This script effectively loads a trained chatbot model, processes user queries, predicts the best intent, and generates responses, all within a simple GUI. 🚀"
   ]
  }
 ],
 "metadata": {
  "kernelspec": {
   "display_name": "Python 3",
   "language": "python",
   "name": "python3"
  },
  "language_info": {
   "codemirror_mode": {
    "name": "ipython",
    "version": 3
   },
   "file_extension": ".py",
   "mimetype": "text/x-python",
   "name": "python",
   "nbconvert_exporter": "python",
   "pygments_lexer": "ipython3",
   "version": "3.12.3"
  }
 },
 "nbformat": 4,
 "nbformat_minor": 2
}
